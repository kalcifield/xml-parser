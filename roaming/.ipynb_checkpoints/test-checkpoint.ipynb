{
 "cells": [
  {
   "cell_type": "code",
   "execution_count": 1,
   "metadata": {
    "collapsed": true
   },
   "outputs": [],
   "source": [
    "import json"
   ]
  },
  {
   "cell_type": "code",
   "execution_count": 2,
   "metadata": {
    "collapsed": true
   },
   "outputs": [],
   "source": [
    "import xmltodict"
   ]
  },
  {
   "cell_type": "code",
   "execution_count": 3,
   "metadata": {
    "collapsed": true
   },
   "outputs": [],
   "source": [
    "def read_data():\n",
    "    with open('Roaming_Offers.xml') as file:\n",
    "        raw_data = file.read()\n",
    "        file.close()\n",
    "        return raw_data"
   ]
  },
  {
   "cell_type": "code",
   "execution_count": 4,
   "metadata": {
    "collapsed": true
   },
   "outputs": [],
   "source": [
    "def reset_file():\n",
    "    file_name = \"roaming.sql\"\n",
    "    open(file_name, \"w\").close()"
   ]
  },
  {
   "cell_type": "code",
   "execution_count": 5,
   "metadata": {
    "collapsed": true,
    "scrolled": true
   },
   "outputs": [],
   "source": [
    "parser = json.loads(json.dumps(xmltodict.parse(read_data(), process_namespaces=True)))\n",
    "reset_file()"
   ]
  },
  {
   "cell_type": "code",
   "execution_count": 6,
   "metadata": {
    "collapsed": true
   },
   "outputs": [],
   "source": [
    "def write_to_file(table, uid, *args):\n",
    "    file_name = \"roaming.sql\"\n",
    "\n",
    "    insert_line = \"insert into \" + table + \" VALUES (\\'\" + uid + \"\\'\"\n",
    "    for arg in args:\n",
    "        if arg == \"null\":\n",
    "            insert_line += \", null\"\n",
    "        else:\n",
    "            insert_line += \", \\'\" + arg + \"\\'\"\n",
    "    insert_line += \"); \\n\"\n",
    "    with open(file_name, \"a\") as file:\n",
    "        file.write(insert_line)"
   ]
  },
  {
   "cell_type": "code",
   "execution_count": 7,
   "metadata": {
    "collapsed": true
   },
   "outputs": [],
   "source": [
    "def is_dictionary(ele):\n",
    "    return type(ele) == type(dict())"
   ]
  },
  {
   "cell_type": "code",
   "execution_count": 8,
   "metadata": {
    "collapsed": true
   },
   "outputs": [],
   "source": [
    "def find_value_in_props_file(language_variable, file_name):\n",
    "    with open(file_name) as file:\n",
    "        raw_data = file.readlines()\n",
    "        file.close()\n",
    "        for line in raw_data:\n",
    "            if language_variable in line:\n",
    "                index_of_equalsign = line.find('=')\n",
    "                return line[index_of_equalsign + 2:].rstrip()"
   ]
  },
  {
   "cell_type": "code",
   "execution_count": 9,
   "metadata": {
    "collapsed": true
   },
   "outputs": [],
   "source": [
    "def generate_multilanguage_nestedkeyvalue(value_type, key, id, version, keyvalue_uid):\n",
    "    prop_files = {\"eng\": \"../language_files/Language-offers_hu.properties\",\n",
    "                  \"hun\": \"../language_files/Language-offers_en.properties\",\n",
    "                  \"def\": \"../language_files/Language-offers.properties\",\n",
    "                  \"un\": \"unLocalized\"}\n",
    "\n",
    "    if key == \"Warning_text\":\n",
    "        key = \"WarningText\"\n",
    "\n",
    "    if key == \"Throttling_text\":\n",
    "        key = \"ThrottlingText\"\n",
    "\n",
    "    language_variable = \"Roaming.\" + value_type + \".\" + id + \".\" + key\n",
    "    for eng, value in prop_files.items():\n",
    "        if eng == \"un\":\n",
    "            prop_line = \"null\"\n",
    "\n",
    "        else:\n",
    "            prop_line = find_value_in_props_file(language_variable, value)\n",
    "            if prop_line is None:\n",
    "            #             print(\"nán1\")\n",
    "                language_variable = \"Roaming.\" + value_type + \\\n",
    "                                \".\" + id + \".\" + \"POST\" + \".\" + key\n",
    "                prop_line = find_value_in_props_file(language_variable, value)\n",
    "            if prop_line is None:\n",
    "            #             print(\"nán2\")\n",
    "                language_variable = \"Roaming.\" + value_type + \\\n",
    "                                \".\" + id + \".\" + \"PRE\" + \".\" + key\n",
    "                prop_line = find_value_in_props_file(language_variable, value)\n",
    "            if prop_line is None:\n",
    "                print(\"nán3, baj van\")\n",
    "                print(language_variable)\n",
    "\n",
    "        nestedkeyvalue_uid = keyvalue_uid + \"-\" + eng\n",
    "        write_to_file(\"nestedkeyvalue\", nestedkeyvalue_uid, keyvalue_uid, prop_line)"
   ]
  },
  {
   "cell_type": "code",
   "execution_count": 10,
   "metadata": {
    "collapsed": true
   },
   "outputs": [],
   "source": [
    "def generate_psmcode_nestedkeyvalue(dict_val, keyvalue_uid, version):\n",
    "    for key,val in dict_val.items():\n",
    "        nestedkeyvalue_uid = keyvalue_uid + \"-\" + key\n",
    "        write_to_file(\"nestedkeyvalue\", nestedkeyvalue_uid, keyvalue_uid, val)\n",
    "    \n",
    "    "
   ]
  },
  {
   "cell_type": "code",
   "execution_count": 11,
   "metadata": {
    "collapsed": true
   },
   "outputs": [],
   "source": [
    "def generate_objectrelation(relation_list, id, version, key):\n",
    "    for relation_id in relation_list:\n",
    "        keyvalue_uid = id + \"-\" + version + \"-\" + key\n",
    "        objectrelation_uid = keyvalue_uid + \"-\" + relation_id\n",
    "        relatedobject_uid = relation_id + \"-\" + version\n",
    "        \n",
    "        write_to_file(\"objectrelation\", objectrelation_uid, keyvalue_uid, relatedobject_uid)\n",
    "    "
   ]
  },
  {
   "cell_type": "code",
   "execution_count": 12,
   "metadata": {
    "collapsed": true
   },
   "outputs": [],
   "source": [
    "for offer in parser['OfferConfig']['Offers']['Offer']:\n",
    "    version = \"1.0.0\"\n",
    "    # insert object\n",
    "    # insert unlocalized\n",
    "    value_type = \"Offers\"\n",
    "    id = offer['Id']\n",
    "    object_uid = id + \"-\" + version\n",
    "    write_to_file(\"object\", object_uid, id)\n",
    "    \n",
    "    for key in offer.keys():\n",
    "        keyvalue_uid = id + \"-\" + version + \"-\" + key\n",
    "        # implementedRow.uid\n",
    "        implementedrow_uid = \"Roaming-Offer-\" + version + \"-\" + key\n",
    "\n",
    "        value = \"null\"\n",
    "        dict_val = offer[key]\n",
    "#         print(dict_val)\n",
    "        if is_dictionary(dict_val):\n",
    "            if '@localized' in dict_val:\n",
    "                if dict_val['@localized'] == \"false\":\n",
    "                    print(\"not gut\")\n",
    "                else:\n",
    "                    generate_multilanguage_nestedkeyvalue(value_type,key,id,version, keyvalue_uid)\n",
    "\n",
    "            \n",
    "                # unlocalized null / if false -> value between tags\n",
    "                \n",
    "            if 'Upgrade_offer_id' in dict_val:\n",
    "                \n",
    "                offer_id_list = dict_val['Upgrade_offer_id']\n",
    "                if type(offer_id_list) is not list:\n",
    "                    helper_list = []\n",
    "                    helper_list.append(offer_id_list)\n",
    "                    offer_id_list = helper_list\n",
    "                generate_objectrelation(offer_id_list, id, version, key)\n",
    "            \n",
    "            if 'Activation' in dict_val:\n",
    "                generate_psmcode_nestedkeyvalue(dict_val, keyvalue_uid, version)\n",
    "\n",
    "            \n",
    "            \n",
    "        elif offer[key] is not None:\n",
    "            value = offer[key]\n",
    "\n",
    "        write_to_file(\"keyvalues\", keyvalue_uid, object_uid, implementedrow_uid, value)\n"
   ]
  },
  {
   "cell_type": "code",
   "execution_count": null,
   "metadata": {
    "collapsed": true
   },
   "outputs": [],
   "source": []
  }
 ],
 "metadata": {
  "kernelspec": {
   "display_name": "Python 3",
   "language": "python",
   "name": "python3"
  },
  "language_info": {
   "codemirror_mode": {
    "name": "ipython",
    "version": 3
   },
   "file_extension": ".py",
   "mimetype": "text/x-python",
   "name": "python",
   "nbconvert_exporter": "python",
   "pygments_lexer": "ipython3",
   "version": "3.6.3"
  }
 },
 "nbformat": 4,
 "nbformat_minor": 2
}
